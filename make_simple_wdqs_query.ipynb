{
 "cells": [
  {
   "cell_type": "code",
   "execution_count": 13,
   "metadata": {
    "collapsed": false
   },
   "outputs": [
    {
     "name": "stdout",
     "output_type": "stream",
     "text": [
      "b'{\\n  \"head\" : {\\n    \"vars\" : [ \"item\", \"value\" ]\\n  },\\n  \"results\" : {\\n    \"bindings\" : [ {\\n      \"item\" : {\\n        \"type\" : \"uri\",\\n        \"value\" : \"http://www.wikidata.org/entity/Q7947798\"\\n      },\\n      \"value\" : {\\n        \"type\" : \"literal\",\\n        \"value\" : \"WCHV\"\\n      }\\n    }, {\\n      \"item\" : {\\n        \"type\" : \"uri\",\\n        \"value\" : \"http://www.wikidata.org/entity/Q14262169\"\\n      },\\n      \"value\" : {\\n        \"type\" : \"literal\",\\n        \"value\" : \"SLKQ\"\\n      }\\n    }, {\\n      \"item\" : {\\n        \"type\" : \"uri\",\\n        \"value\" : \"http://www.wikidata.org/entity/Q10365529\"\\n      },\\n  '\n"
     ]
    }
   ],
   "source": [
    "import json\n",
    "import requests\n",
    "BASE_URL = 'https://query.wikidata.org/bigdata/namespace/wdq/sparql?' \\\n",
    "           'format=json&query='\n",
    "\n",
    "prefix = \"\" \\\n",
    "\"prefix wdt: <http://www.wikidata.org/prop/direct/>\\n\" \\\n",
    "\"prefix prov: <http://www.w3.org/ns/prov#>\\n\" \\\n",
    "\"prefix pr: <http://www.wikidata.org/prop/reference/>\\n\" \\\n",
    "\"prefix wd: <http://www.wikidata.org/entity/>\\n\"\n",
    "\n",
    "query = \"SELECT DISTINCT ?item ?value  WHERE {?item p:P2317?statement. OPTIONAL { ?item wdt:P2317 ?value. }}\"\n",
    "\n",
    "r = requests.get(BASE_URL + requests.utils.quote(prefix + query))\n",
    "r.raise_for_status()\n",
    "print(r.content[0:600])"
   ]
  },
  {
   "cell_type": "code",
   "execution_count": 14,
   "metadata": {
    "collapsed": false
   },
   "outputs": [
    {
     "name": "stdout",
     "output_type": "stream",
     "text": [
      "<class 'bytes'>\n"
     ]
    }
   ],
   "source": [
    "print(type(r.content))"
   ]
  },
  {
   "cell_type": "code",
   "execution_count": 15,
   "metadata": {
    "collapsed": false
   },
   "outputs": [
    {
     "ename": "TypeError",
     "evalue": "the JSON object must be str, not 'bytes'",
     "output_type": "error",
     "traceback": [
      "\u001b[0;31m---------------------------------------------------------------------------\u001b[0m",
      "\u001b[0;31mTypeError\u001b[0m                                 Traceback (most recent call last)",
      "\u001b[0;32m<ipython-input-15-7b042a49928f>\u001b[0m in \u001b[0;36m<module>\u001b[0;34m()\u001b[0m\n\u001b[0;32m----> 1\u001b[0;31m \u001b[0mjson\u001b[0m\u001b[0;34m.\u001b[0m\u001b[0mloads\u001b[0m\u001b[0;34m(\u001b[0m\u001b[0mr\u001b[0m\u001b[0;34m.\u001b[0m\u001b[0mcontent\u001b[0m\u001b[0;34m)\u001b[0m\u001b[0;34m\u001b[0m\u001b[0m\n\u001b[0m",
      "\u001b[0;32m/usr/lib/python3.4/json/__init__.py\u001b[0m in \u001b[0;36mloads\u001b[0;34m(s, encoding, cls, object_hook, parse_float, parse_int, parse_constant, object_pairs_hook, **kw)\u001b[0m\n\u001b[1;32m    310\u001b[0m     \u001b[0;32mif\u001b[0m \u001b[0;32mnot\u001b[0m \u001b[0misinstance\u001b[0m\u001b[0;34m(\u001b[0m\u001b[0ms\u001b[0m\u001b[0;34m,\u001b[0m \u001b[0mstr\u001b[0m\u001b[0;34m)\u001b[0m\u001b[0;34m:\u001b[0m\u001b[0;34m\u001b[0m\u001b[0m\n\u001b[1;32m    311\u001b[0m         raise TypeError('the JSON object must be str, not {!r}'.format(\n\u001b[0;32m--> 312\u001b[0;31m                             s.__class__.__name__))\n\u001b[0m\u001b[1;32m    313\u001b[0m     \u001b[0;32mif\u001b[0m \u001b[0ms\u001b[0m\u001b[0;34m.\u001b[0m\u001b[0mstartswith\u001b[0m\u001b[0;34m(\u001b[0m\u001b[0;34mu'\\ufeff'\u001b[0m\u001b[0;34m)\u001b[0m\u001b[0;34m:\u001b[0m\u001b[0;34m\u001b[0m\u001b[0m\n\u001b[1;32m    314\u001b[0m         \u001b[0;32mraise\u001b[0m \u001b[0mValueError\u001b[0m\u001b[0;34m(\u001b[0m\u001b[0;34m\"Unexpected UTF-8 BOM (decode using utf-8-sig)\"\u001b[0m\u001b[0;34m)\u001b[0m\u001b[0;34m\u001b[0m\u001b[0m\n",
      "\u001b[0;31mTypeError\u001b[0m: the JSON object must be str, not 'bytes'"
     ]
    }
   ],
   "source": [
    "json.loads(r.content)"
   ]
  },
  {
   "cell_type": "code",
   "execution_count": null,
   "metadata": {
    "collapsed": true
   },
   "outputs": [],
   "source": []
  }
 ],
 "metadata": {
  "kernelspec": {
   "display_name": "Python 3",
   "language": "python",
   "name": "python3"
  },
  "language_info": {
   "codemirror_mode": {
    "name": "ipython",
    "version": 3
   },
   "file_extension": ".py",
   "mimetype": "text/x-python",
   "name": "python",
   "nbconvert_exporter": "python",
   "pygments_lexer": "ipython3",
   "version": "3.4.2"
  }
 },
 "nbformat": 4,
 "nbformat_minor": 2
}
